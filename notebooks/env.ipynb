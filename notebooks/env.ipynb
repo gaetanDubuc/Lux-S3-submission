{
 "cells": [
  {
   "cell_type": "code",
   "execution_count": 1,
   "metadata": {},
   "outputs": [
    {
     "name": "stderr",
     "output_type": "stream",
     "text": [
      "An NVIDIA GPU may be present on this machine, but a CUDA-enabled jaxlib is not installed. Falling back to cpu.\n"
     ]
    },
    {
     "data": {
      "text/plain": [
       "EnvParams(max_steps_in_match=50, map_type=0, map_width=24, map_height=24, num_teams=2, match_count_per_episode=5, max_units=16, init_unit_energy=100, min_unit_energy=0, max_unit_energy=400, unit_move_cost=2, spawn_rate=5, unit_sap_cost=10, unit_sap_range=4, unit_sap_dropoff_factor=0.5, unit_energy_void_factor=0.125, max_energy_nodes=6, max_energy_per_tile=20, min_energy_per_tile=-20, max_relic_nodes=6, relic_config_size=5, fog_of_war=True, unit_sensor_range=2, nebula_tile_vision_reduction=1, nebula_tile_energy_reduction=0, nebula_tile_drift_speed=-0.05, energy_node_drift_speed=0.02, energy_node_drift_magnitude=5)"
      ]
     },
     "execution_count": 1,
     "metadata": {},
     "output_type": "execute_result"
    }
   ],
   "source": [
    "import json\n",
    "import time\n",
    "\n",
    "import flax\n",
    "import flax.serialization\n",
    "from luxai_s3.params import EnvParams\n",
    "from luxai_s3.state import EnvState, serialize_env_actions, serialize_env_states\n",
    "import jax\n",
    "import jax.numpy as jnp\n",
    "\n",
    "from luxai_s3.env import LuxAIS3Env\n",
    "\n",
    "# from luxai_s3.wrappers import RecordEpisode\n",
    "\n",
    "# Create the environment\n",
    "env = LuxAIS3Env(auto_reset=False)\n",
    "env_params = EnvParams(map_type=0, max_steps_in_match=50)\n",
    "\n",
    "# Initialize a random key\n",
    "key = jax.random.key(0)\n",
    "\n",
    "# Reset the environment\n",
    "key, reset_key = jax.random.split(key)\n",
    "obs, state = env.reset(reset_key, params=env_params)\n",
    "# Take a random action\n",
    "key, subkey = jax.random.split(key)\n",
    "\n",
    "env_params"
   ]
  },
  {
   "cell_type": "code",
   "execution_count": 2,
   "metadata": {},
   "outputs": [],
   "source": [
    "for _ in range(5):\n",
    "    key, subkey = jax.random.split(key)\n",
    "    action = env.action_space(env_params).sample(subkey)\n",
    "    obs, state, reward, terminated, truncated, info = env.step(\n",
    "        subkey, state, action, params=env_params\n",
    "    )"
   ]
  },
  {
   "cell_type": "code",
   "execution_count": 7,
   "metadata": {},
   "outputs": [],
   "source": [
    "from typing import Any, Dict\n",
    "\n",
    "\n",
    "class Agent:\n",
    "    def __init__(self, player: str, env_cfg: Dict[str, Any]) -> None:\n",
    "        self.player = player\n",
    "        self.opp_player = \"player_1\" if self.player == \"player_0\" else \"player_0\"\n",
    "        self.team_id = 0 if self.player == \"player_0\" else 1\n",
    "        self.opp_team_id = 1 if self.team_id == 0 else 0\n",
    "        np.random.seed(0)\n",
    "        self.env_cfg = env_cfg\n",
    "\n",
    "        self.map = Graph(env_cfg[\"map_width\"], env_cfg[\"map_height\"])\n",
    "\n",
    "    def act(self, step: int, obs: Dict[str, Any], remainingOverageTime: int = 60):\n",
    "        \"\"\"implement this function to decide what actions to send to each available unit.\n",
    "\n",
    "        step is the current timestep number of the game starting from 0 going up to max_steps_in_match * match_count_per_episode - 1.\n",
    "        \"\"\"\n",
    "\n",
    "        unit_mask = np.array(obs[\"units_mask\"][self.team_id])\n",
    "        unit_positions: NDArray[np.int16] = np.array(\n",
    "            obs[\"units\"][\"position\"][self.team_id]\n",
    "        )[unit_mask]\n",
    "        return 0"
   ]
  },
  {
   "cell_type": "code",
   "execution_count": 8,
   "metadata": {},
   "outputs": [
    {
     "ename": "NameError",
     "evalue": "name 'ArrayLike' is not defined",
     "output_type": "error",
     "traceback": [
      "\u001b[0;31m---------------------------------------------------------------------------\u001b[0m",
      "\u001b[0;31mNameError\u001b[0m                                 Traceback (most recent call last)",
      "Cell \u001b[0;32mIn[8], line 19\u001b[0m\n\u001b[1;32m     15\u001b[0m         \u001b[38;5;28;01melse\u001b[39;00m:\n\u001b[1;32m     16\u001b[0m             \u001b[38;5;28;01mreturn\u001b[39;00m \u001b[38;5;241m1\u001b[39m\n\u001b[0;32m---> 19\u001b[0m \u001b[38;5;28;01mdef\u001b[39;00m \u001b[38;5;21mmanhattan_distance\u001b[39m(start_node: \u001b[43mArrayLike\u001b[49m, end_node: ArrayLike) \u001b[38;5;241m-\u001b[39m\u001b[38;5;241m>\u001b[39m \u001b[38;5;28mint\u001b[39m:\n\u001b[1;32m     20\u001b[0m     \u001b[38;5;28;01mreturn\u001b[39;00m \u001b[38;5;28mabs\u001b[39m(start_node[\u001b[38;5;241m0\u001b[39m] \u001b[38;5;241m-\u001b[39m end_node[\u001b[38;5;241m0\u001b[39m]) \u001b[38;5;241m+\u001b[39m \u001b[38;5;28mabs\u001b[39m(start_node[\u001b[38;5;241m0\u001b[39m] \u001b[38;5;241m-\u001b[39m end_node[\u001b[38;5;241m0\u001b[39m])\n",
      "\u001b[0;31mNameError\u001b[0m: name 'ArrayLike' is not defined"
     ]
    }
   ],
   "source": [
    "def direction_to(src, target):\n",
    "    ds = target - src\n",
    "    dx = ds[0]\n",
    "    dy = ds[1]\n",
    "    if dx == 0 and dy == 0:\n",
    "        return 0\n",
    "    if abs(dx) > abs(dy):\n",
    "        if dx > 0:\n",
    "            return 2\n",
    "        else:\n",
    "            return 4\n",
    "    else:\n",
    "        if dy > 0:\n",
    "            return 3\n",
    "        else:\n",
    "            return 1\n",
    "\n",
    "\n",
    "def manhattan_distance(start_node: ArrayLike, end_node: ArrayLike) -> int:\n",
    "    return abs(start_node[0] - end_node[0]) + abs(start_node[0] - end_node[0])"
   ]
  },
  {
   "cell_type": "code",
   "execution_count": 9,
   "metadata": {},
   "outputs": [],
   "source": [
    "from argparse import Namespace\n",
    "from dataclasses import dataclass\n",
    "from typing import Any, Dict\n",
    "import numpy as np\n",
    "import networkx as nx\n",
    "import numpy as np\n",
    "from numpy.typing import ArrayLike, NDArray\n",
    "\n",
    "\n",
    "@dataclass(frozen=True)\n",
    "class Coordinate:\n",
    "    x: int\n",
    "    y: int\n",
    "\n",
    "    def __getitem__(self, index: int):\n",
    "        if index == 0:\n",
    "            return self.x\n",
    "        elif index == 1:\n",
    "            return self.y\n",
    "        else:\n",
    "            raise IndexError(\"Index out of range. Use 0 for 'x' and 1 for 'y'.\")\n",
    "\n",
    "\n",
    "class Graph:\n",
    "    def __init__(self, map_width: int, map_height: int):\n",
    "        self.map: nx.DiGraph = nx.grid_2d_graph(\n",
    "            map_width, map_height, periodic=False, create_using=nx.DiGraph()\n",
    "        )\n",
    "\n",
    "    def update_cost(self, node: ArrayLike, cost: float):\n",
    "        nx.set_edge_attributes(self.map, cost, \"cost\")\n",
    "\n",
    "    def map_shortest_path_to_action(\n",
    "        self, start_node: ArrayLike, end_node: ArrayLike\n",
    "    ) -> int:\n",
    "        next_node = nx.astar_path(\n",
    "            self.map, start_node, end_node, heuristic=manhattan_distance\n",
    "        )[1]\n",
    "\n",
    "        return direction_to(np.array(start_node), np.array(next_node))"
   ]
  },
  {
   "cell_type": "code",
   "execution_count": 10,
   "metadata": {},
   "outputs": [],
   "source": [
    "G = Graph(24, 24)\n",
    "{e: 0 for e in G.map.edges()}\n",
    "G.map.add_node((0, 0))"
   ]
  },
  {
   "cell_type": "code",
   "execution_count": 14,
   "metadata": {},
   "outputs": [
    {
     "data": {
      "text/plain": [
       "2208"
      ]
     },
     "execution_count": 14,
     "metadata": {},
     "output_type": "execute_result"
    }
   ],
   "source": [
    "len(G.map.in_edges())"
   ]
  },
  {
   "cell_type": "code",
   "execution_count": 30,
   "metadata": {},
   "outputs": [],
   "source": [
    "obs_player_0 = obs[\"player_0\"]"
   ]
  },
  {
   "cell_type": "code",
   "execution_count": null,
   "metadata": {},
   "outputs": [
    {
     "name": "stdout",
     "output_type": "stream",
     "text": [
      "(Array(0, dtype=int32), Array(0, dtype=int32)) [ 5  4  2  0  4  2  0 -1  2  0 -1  0]\n"
     ]
    },
    {
     "ename": "IndexError",
     "evalue": "Too many indices: 1-dimensional array indexed with 2 regular indices.",
     "output_type": "error",
     "traceback": [
      "\u001b[0;31m---------------------------------------------------------------------------\u001b[0m",
      "\u001b[0;31mIndexError\u001b[0m                                Traceback (most recent call last)",
      "\u001b[0;32m/tmp/ipykernel_2742/1581211239.py\u001b[0m in \u001b[0;36m?\u001b[0;34m()\u001b[0m\n\u001b[1;32m      2\u001b[0m \u001b[0mvisible_energies\u001b[0m \u001b[0;34m=\u001b[0m \u001b[0mobs_player_0\u001b[0m\u001b[0;34m.\u001b[0m\u001b[0mmap_features\u001b[0m\u001b[0;34m.\u001b[0m\u001b[0menergy\u001b[0m\u001b[0;34m[\u001b[0m\u001b[0mobs_player_0\u001b[0m\u001b[0;34m.\u001b[0m\u001b[0msensor_mask\u001b[0m\u001b[0;34m]\u001b[0m\u001b[0;34m\u001b[0m\u001b[0;34m\u001b[0m\u001b[0m\n\u001b[1;32m      3\u001b[0m \u001b[0;32mfor\u001b[0m \u001b[0mi\u001b[0m \u001b[0;32min\u001b[0m \u001b[0mrange\u001b[0m\u001b[0;34m(\u001b[0m\u001b[0mvisible_tiles_indices\u001b[0m\u001b[0;34m.\u001b[0m\u001b[0mshape\u001b[0m\u001b[0;34m[\u001b[0m\u001b[0;36m1\u001b[0m\u001b[0;34m]\u001b[0m\u001b[0;34m)\u001b[0m\u001b[0;34m:\u001b[0m\u001b[0;34m\u001b[0m\u001b[0;34m\u001b[0m\u001b[0m\n\u001b[1;32m      4\u001b[0m     \u001b[0mnode_location\u001b[0m \u001b[0;34m=\u001b[0m \u001b[0mtuple\u001b[0m\u001b[0;34m(\u001b[0m\u001b[0mvisible_tiles_indices\u001b[0m\u001b[0;34m[\u001b[0m\u001b[0;34m:\u001b[0m\u001b[0;34m,\u001b[0m \u001b[0mi\u001b[0m\u001b[0;34m]\u001b[0m\u001b[0;34m)\u001b[0m\u001b[0;34m\u001b[0m\u001b[0;34m\u001b[0m\u001b[0m\n\u001b[1;32m      5\u001b[0m     \u001b[0mprint\u001b[0m\u001b[0;34m(\u001b[0m\u001b[0mnode_location\u001b[0m\u001b[0;34m,\u001b[0m \u001b[0mvisible_energies\u001b[0m\u001b[0;34m)\u001b[0m\u001b[0;34m\u001b[0m\u001b[0;34m\u001b[0m\u001b[0m\n\u001b[0;32m----> 6\u001b[0;31m     \u001b[0mcost\u001b[0m \u001b[0;34m=\u001b[0m \u001b[0mvisible_energies\u001b[0m\u001b[0;34m[\u001b[0m\u001b[0mnode_location\u001b[0m\u001b[0;34m[\u001b[0m\u001b[0;36m0\u001b[0m\u001b[0;34m]\u001b[0m\u001b[0;34m,\u001b[0m \u001b[0mnode_location\u001b[0m\u001b[0;34m[\u001b[0m\u001b[0;36m1\u001b[0m\u001b[0;34m]\u001b[0m\u001b[0;34m]\u001b[0m\u001b[0;34m\u001b[0m\u001b[0;34m\u001b[0m\u001b[0m\n\u001b[0m\u001b[1;32m      7\u001b[0m     \u001b[0mG\u001b[0m\u001b[0;34m.\u001b[0m\u001b[0mmap\u001b[0m\u001b[0;34m.\u001b[0m\u001b[0madd_node\u001b[0m\u001b[0;34m(\u001b[0m\u001b[0mnode_location\u001b[0m\u001b[0;34m,\u001b[0m \u001b[0mcost\u001b[0m\u001b[0;34m=\u001b[0m\u001b[0mcost\u001b[0m\u001b[0;34m)\u001b[0m\u001b[0;34m\u001b[0m\u001b[0;34m\u001b[0m\u001b[0m\n",
      "\u001b[0;32m~/.cache/pypoetry/virtualenvs/lux-s3-bot-irC4jx2b-py3.11/lib/python3.11/site-packages/jax/_src/array.py\u001b[0m in \u001b[0;36m?\u001b[0;34m(self, idx)\u001b[0m\n\u001b[1;32m    366\u001b[0m \u001b[0;34m\u001b[0m\u001b[0m\n\u001b[1;32m    367\u001b[0m         return ArrayImpl(\n\u001b[1;32m    368\u001b[0m             out.aval, sharding, [out], committed=False, _skip_checks=True)\n\u001b[1;32m    369\u001b[0m \u001b[0;34m\u001b[0m\u001b[0m\n\u001b[0;32m--> 370\u001b[0;31m     \u001b[0;32mreturn\u001b[0m \u001b[0mlax_numpy\u001b[0m\u001b[0;34m.\u001b[0m\u001b[0m_rewriting_take\u001b[0m\u001b[0;34m(\u001b[0m\u001b[0mself\u001b[0m\u001b[0;34m,\u001b[0m \u001b[0midx\u001b[0m\u001b[0;34m)\u001b[0m\u001b[0;34m\u001b[0m\u001b[0;34m\u001b[0m\u001b[0m\n\u001b[0m",
      "\u001b[0;32m~/.cache/pypoetry/virtualenvs/lux-s3-bot-irC4jx2b-py3.11/lib/python3.11/site-packages/jax/_src/numpy/lax_numpy.py\u001b[0m in \u001b[0;36m?\u001b[0;34m(arr, idx, indices_are_sorted, unique_indices, mode, fill_value)\u001b[0m\n\u001b[1;32m  11407\u001b[0m           isinstance(arr.shape[0], int)):\n\u001b[1;32m  11408\u001b[0m         \u001b[0;32mreturn\u001b[0m \u001b[0mlax\u001b[0m\u001b[0;34m.\u001b[0m\u001b[0mdynamic_index_in_dim\u001b[0m\u001b[0;34m(\u001b[0m\u001b[0marr\u001b[0m\u001b[0;34m,\u001b[0m \u001b[0midx\u001b[0m\u001b[0;34m,\u001b[0m \u001b[0mkeepdims\u001b[0m\u001b[0;34m=\u001b[0m\u001b[0;32mFalse\u001b[0m\u001b[0;34m)\u001b[0m\u001b[0;34m\u001b[0m\u001b[0;34m\u001b[0m\u001b[0m\n\u001b[1;32m  11409\u001b[0m \u001b[0;34m\u001b[0m\u001b[0m\n\u001b[1;32m  11410\u001b[0m   \u001b[0mtreedef\u001b[0m\u001b[0;34m,\u001b[0m \u001b[0mstatic_idx\u001b[0m\u001b[0;34m,\u001b[0m \u001b[0mdynamic_idx\u001b[0m \u001b[0;34m=\u001b[0m \u001b[0m_split_index_for_jit\u001b[0m\u001b[0;34m(\u001b[0m\u001b[0midx\u001b[0m\u001b[0;34m,\u001b[0m \u001b[0marr\u001b[0m\u001b[0;34m.\u001b[0m\u001b[0mshape\u001b[0m\u001b[0;34m)\u001b[0m\u001b[0;34m\u001b[0m\u001b[0;34m\u001b[0m\u001b[0m\n\u001b[0;32m> 11411\u001b[0;31m   return _gather(arr, treedef, static_idx, dynamic_idx, indices_are_sorted,\n\u001b[0m\u001b[1;32m  11412\u001b[0m                  unique_indices, mode, fill_value)\n",
      "\u001b[0;32m~/.cache/pypoetry/virtualenvs/lux-s3-bot-irC4jx2b-py3.11/lib/python3.11/site-packages/jax/_src/numpy/lax_numpy.py\u001b[0m in \u001b[0;36m?\u001b[0;34m(arr, treedef, static_idx, dynamic_idx, indices_are_sorted, unique_indices, mode, fill_value)\u001b[0m\n\u001b[1;32m  11417\u001b[0m def _gather(arr, treedef, static_idx, dynamic_idx, indices_are_sorted,\n\u001b[1;32m  11418\u001b[0m             unique_indices, mode, fill_value):\n\u001b[1;32m  11419\u001b[0m   \u001b[0midx\u001b[0m \u001b[0;34m=\u001b[0m \u001b[0m_merge_static_and_dynamic_indices\u001b[0m\u001b[0;34m(\u001b[0m\u001b[0mtreedef\u001b[0m\u001b[0;34m,\u001b[0m \u001b[0mstatic_idx\u001b[0m\u001b[0;34m,\u001b[0m \u001b[0mdynamic_idx\u001b[0m\u001b[0;34m)\u001b[0m\u001b[0;34m\u001b[0m\u001b[0;34m\u001b[0m\u001b[0m\n\u001b[0;32m> 11420\u001b[0;31m   \u001b[0mindexer\u001b[0m \u001b[0;34m=\u001b[0m \u001b[0m_index_to_gather\u001b[0m\u001b[0;34m(\u001b[0m\u001b[0mshape\u001b[0m\u001b[0;34m(\u001b[0m\u001b[0marr\u001b[0m\u001b[0;34m)\u001b[0m\u001b[0;34m,\u001b[0m \u001b[0midx\u001b[0m\u001b[0;34m)\u001b[0m  \u001b[0;31m# shared with _scatter_update\u001b[0m\u001b[0;34m\u001b[0m\u001b[0;34m\u001b[0m\u001b[0m\n\u001b[0m\u001b[1;32m  11421\u001b[0m   \u001b[0my\u001b[0m \u001b[0;34m=\u001b[0m \u001b[0marr\u001b[0m\u001b[0;34m\u001b[0m\u001b[0;34m\u001b[0m\u001b[0m\n\u001b[1;32m  11422\u001b[0m \u001b[0;34m\u001b[0m\u001b[0m\n\u001b[1;32m  11423\u001b[0m   \u001b[0;32mif\u001b[0m \u001b[0mfill_value\u001b[0m \u001b[0;32mis\u001b[0m \u001b[0;32mnot\u001b[0m \u001b[0;32mNone\u001b[0m\u001b[0;34m:\u001b[0m\u001b[0;34m\u001b[0m\u001b[0;34m\u001b[0m\u001b[0m\n",
      "\u001b[0;32m~/.cache/pypoetry/virtualenvs/lux-s3-bot-irC4jx2b-py3.11/lib/python3.11/site-packages/jax/_src/numpy/lax_numpy.py\u001b[0m in \u001b[0;36m?\u001b[0;34m(x_shape, idx, normalize_indices)\u001b[0m\n\u001b[1;32m  11525\u001b[0m def _index_to_gather(x_shape: Sequence[int], idx: Sequence[Any],\n\u001b[1;32m  11526\u001b[0m                      normalize_indices: bool = True) -> _Indexer:\n\u001b[1;32m  11527\u001b[0m   \u001b[0;31m# Remove ellipses and add trailing slice(None)s.\u001b[0m\u001b[0;34m\u001b[0m\u001b[0;34m\u001b[0m\u001b[0m\n\u001b[0;32m> 11528\u001b[0;31m   \u001b[0midx\u001b[0m \u001b[0;34m=\u001b[0m \u001b[0m_canonicalize_tuple_index\u001b[0m\u001b[0;34m(\u001b[0m\u001b[0mlen\u001b[0m\u001b[0;34m(\u001b[0m\u001b[0mx_shape\u001b[0m\u001b[0;34m)\u001b[0m\u001b[0;34m,\u001b[0m \u001b[0midx\u001b[0m\u001b[0;34m)\u001b[0m\u001b[0;34m\u001b[0m\u001b[0;34m\u001b[0m\u001b[0m\n\u001b[0m\u001b[1;32m  11529\u001b[0m \u001b[0;34m\u001b[0m\u001b[0m\n\u001b[1;32m  11530\u001b[0m   \u001b[0;31m# Check for scalar boolean indexing: this requires inserting extra dimensions\u001b[0m\u001b[0;34m\u001b[0m\u001b[0;34m\u001b[0m\u001b[0m\n\u001b[1;32m  11531\u001b[0m   \u001b[0;31m# before performing the rest of the logic.\u001b[0m\u001b[0;34m\u001b[0m\u001b[0;34m\u001b[0m\u001b[0m\n",
      "\u001b[0;32m~/.cache/pypoetry/virtualenvs/lux-s3-bot-irC4jx2b-py3.11/lib/python3.11/site-packages/jax/_src/numpy/lax_numpy.py\u001b[0m in \u001b[0;36m?\u001b[0;34m(arr_ndim, idx)\u001b[0m\n\u001b[1;32m  11848\u001b[0m   \u001b[0;34m\"\"\"Helper to remove Ellipsis and add in the implicit trailing slice(None).\"\"\"\u001b[0m\u001b[0;34m\u001b[0m\u001b[0;34m\u001b[0m\u001b[0m\n\u001b[1;32m  11849\u001b[0m   \u001b[0mnum_dimensions_consumed\u001b[0m \u001b[0;34m=\u001b[0m \u001b[0msum\u001b[0m\u001b[0;34m(\u001b[0m\u001b[0;32mnot\u001b[0m \u001b[0;34m(\u001b[0m\u001b[0me\u001b[0m \u001b[0;32mis\u001b[0m \u001b[0;32mNone\u001b[0m \u001b[0;32mor\u001b[0m \u001b[0me\u001b[0m \u001b[0;32mis\u001b[0m \u001b[0mEllipsis\u001b[0m \u001b[0;32mor\u001b[0m \u001b[0misinstance\u001b[0m\u001b[0;34m(\u001b[0m\u001b[0me\u001b[0m\u001b[0;34m,\u001b[0m \u001b[0mbool\u001b[0m\u001b[0;34m)\u001b[0m\u001b[0;34m)\u001b[0m \u001b[0;32mfor\u001b[0m \u001b[0me\u001b[0m \u001b[0;32min\u001b[0m \u001b[0midx\u001b[0m\u001b[0;34m)\u001b[0m\u001b[0;34m\u001b[0m\u001b[0;34m\u001b[0m\u001b[0m\n\u001b[1;32m  11850\u001b[0m   \u001b[0;32mif\u001b[0m \u001b[0mnum_dimensions_consumed\u001b[0m \u001b[0;34m>\u001b[0m \u001b[0marr_ndim\u001b[0m\u001b[0;34m:\u001b[0m\u001b[0;34m\u001b[0m\u001b[0;34m\u001b[0m\u001b[0m\n\u001b[1;32m  11851\u001b[0m     \u001b[0mindex_or_indices\u001b[0m \u001b[0;34m=\u001b[0m \u001b[0;34m\"index\"\u001b[0m \u001b[0;32mif\u001b[0m \u001b[0mnum_dimensions_consumed\u001b[0m \u001b[0;34m==\u001b[0m \u001b[0;36m1\u001b[0m \u001b[0;32melse\u001b[0m \u001b[0;34m\"indices\"\u001b[0m\u001b[0;34m\u001b[0m\u001b[0;34m\u001b[0m\u001b[0m\n\u001b[0;32m> 11852\u001b[0;31m     raise IndexError(\n\u001b[0m\u001b[1;32m  11853\u001b[0m         \u001b[0;34mf\"Too many indices: {arr_ndim}-dimensional array indexed \"\u001b[0m\u001b[0;34m\u001b[0m\u001b[0;34m\u001b[0m\u001b[0m\n\u001b[1;32m  11854\u001b[0m         f\"with {num_dimensions_consumed} regular {index_or_indices}.\")\n\u001b[1;32m  11855\u001b[0m   \u001b[0mellipses\u001b[0m \u001b[0;34m=\u001b[0m \u001b[0;34m(\u001b[0m\u001b[0mi\u001b[0m \u001b[0;32mfor\u001b[0m \u001b[0mi\u001b[0m\u001b[0;34m,\u001b[0m \u001b[0melt\u001b[0m \u001b[0;32min\u001b[0m \u001b[0menumerate\u001b[0m\u001b[0;34m(\u001b[0m\u001b[0midx\u001b[0m\u001b[0;34m)\u001b[0m \u001b[0;32mif\u001b[0m \u001b[0melt\u001b[0m \u001b[0;32mis\u001b[0m \u001b[0mEllipsis\u001b[0m\u001b[0;34m)\u001b[0m\u001b[0;34m\u001b[0m\u001b[0;34m\u001b[0m\u001b[0m\n",
      "\u001b[0;31mIndexError\u001b[0m: Too many indices: 1-dimensional array indexed with 2 regular indices."
     ]
    }
   ],
   "source": [
    "visible_tiles_indices = jax.numpy.indices(obs_player_0.sensor_mask.shape)[\n",
    "    :, obs_player_0.sensor_mask\n",
    "]\n",
    "visible_energies = obs_player_0.map_features.energy[obs_player_0.sensor_mask]\n",
    "for i in range(visible_tiles_indices.shape[1]):\n",
    "    node_location = tuple(visible_tiles_indices[:, i])\n",
    "    print(node_location, visible_energies)\n",
    "    cost = visible_energies[node_location[0], node_location[1]]\n",
    "    G.map.add_node(node_location, cost=cost)"
   ]
  },
  {
   "cell_type": "code",
   "execution_count": 23,
   "metadata": {},
   "outputs": [
    {
     "name": "stdout",
     "output_type": "stream",
     "text": [
      "2208\n"
     ]
    },
    {
     "data": {
      "text/plain": [
       "0"
      ]
     },
     "execution_count": 23,
     "metadata": {},
     "output_type": "execute_result"
    }
   ],
   "source": [
    "from luxai_s3.state import EnvObs\n",
    "\n",
    "\n",
    "def env_params_to_dict(env_params: EnvParams) -> Dict[str, Any]:\n",
    "    return {\n",
    "        \"map_width\": env_params.map_width,\n",
    "        \"map_height\": env_params.map_height,\n",
    "        \"max_steps_in_match\": env_params.max_steps_in_match,\n",
    "    }\n",
    "\n",
    "\n",
    "def obs_to_dict(obs: EnvObs) -> Dict[str, Any]:\n",
    "    return {\n",
    "        \"units\": {\n",
    "            \"position\": obs.units.position,\n",
    "            \"energy\": obs.units.energy,\n",
    "        },\n",
    "        \"units_mask\": obs.units_mask,\n",
    "        \"sensor_mask\": obs.sensor_mask,\n",
    "        \"map_features\": {\n",
    "            \"energy\": obs.map_features.energy,\n",
    "            \"tile_type\": obs.map_features.tile_type,\n",
    "        },\n",
    "        \"relic_nodes\": obs.relic_nodes,\n",
    "        \"relic_nodes_mask\": obs.relic_nodes_mask,\n",
    "        \"team_points\": obs.team_points,\n",
    "        \"team_wins\": obs.team_wins,\n",
    "        \"steps\": obs.steps,\n",
    "        \"match_steps\": obs.match_steps,\n",
    "    }\n",
    "\n",
    "\n",
    "Agent(\"player_0\", env_params_to_dict(env_params)).act(0, obs_to_dict(obs[\"player_0\"]))"
   ]
  }
 ],
 "metadata": {
  "kernelspec": {
   "display_name": "lux-s3-bot-irC4jx2b-py3.11",
   "language": "python",
   "name": "python3"
  },
  "language_info": {
   "codemirror_mode": {
    "name": "ipython",
    "version": 3
   },
   "file_extension": ".py",
   "mimetype": "text/x-python",
   "name": "python",
   "nbconvert_exporter": "python",
   "pygments_lexer": "ipython3",
   "version": "3.11.3"
  }
 },
 "nbformat": 4,
 "nbformat_minor": 2
}
