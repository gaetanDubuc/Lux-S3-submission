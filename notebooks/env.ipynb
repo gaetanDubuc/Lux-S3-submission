{
 "cells": [
  {
   "cell_type": "code",
   "execution_count": 1,
   "metadata": {},
   "outputs": [
    {
     "name": "stderr",
     "output_type": "stream",
     "text": [
      "An NVIDIA GPU may be present on this machine, but a CUDA-enabled jaxlib is not installed. Falling back to cpu.\n"
     ]
    },
    {
     "data": {
      "text/plain": [
       "EnvParams(max_steps_in_match=50, map_type=0, map_width=24, map_height=24, num_teams=2, match_count_per_episode=5, max_units=16, init_unit_energy=100, min_unit_energy=0, max_unit_energy=400, unit_move_cost=2, spawn_rate=5, unit_sap_cost=10, unit_sap_range=4, unit_sap_dropoff_factor=0.5, unit_energy_void_factor=0.125, max_energy_nodes=6, max_energy_per_tile=20, min_energy_per_tile=-20, max_relic_nodes=6, relic_config_size=5, fog_of_war=True, unit_sensor_range=2, nebula_tile_vision_reduction=1, nebula_tile_energy_reduction=0, nebula_tile_drift_speed=-0.05, energy_node_drift_speed=0.02, energy_node_drift_magnitude=5)"
      ]
     },
     "execution_count": 1,
     "metadata": {},
     "output_type": "execute_result"
    }
   ],
   "source": [
    "import json\n",
    "import time\n",
    "\n",
    "import flax\n",
    "import flax.serialization\n",
    "from luxai_s3.params import EnvParams\n",
    "from luxai_s3.state import EnvState, serialize_env_actions, serialize_env_states\n",
    "import jax\n",
    "import jax.numpy as jnp\n",
    "\n",
    "from luxai_s3.env import LuxAIS3Env\n",
    "\n",
    "# from luxai_s3.wrappers import RecordEpisode\n",
    "\n",
    "# Create the environment\n",
    "env = LuxAIS3Env(auto_reset=False)\n",
    "env_params = EnvParams(map_type=0, max_steps_in_match=50)\n",
    "\n",
    "# Initialize a random key\n",
    "key = jax.random.key(0)\n",
    "\n",
    "# Reset the environment\n",
    "key, reset_key = jax.random.split(key)\n",
    "obs, state = env.reset(reset_key, params=env_params)\n",
    "# Take a random action\n",
    "key, subkey = jax.random.split(key)\n",
    "\n",
    "env_params"
   ]
  },
  {
   "cell_type": "code",
   "execution_count": 2,
   "metadata": {},
   "outputs": [],
   "source": [
    "from argparse import Namespace\n",
    "from dataclasses import dataclass\n",
    "from typing import Any, Dict\n",
    "import numpy as np\n",
    "import networkx as nx\n",
    "import numpy as np\n",
    "from numpy.typing import ArrayLike, NDArray\n",
    "\n",
    "\n",
    "def direction_to(src, target):\n",
    "    ds = target - src\n",
    "    dx = ds[0]\n",
    "    dy = ds[1]\n",
    "    if dx == 0 and dy == 0:\n",
    "        return 0\n",
    "    if abs(dx) > abs(dy):\n",
    "        if dx > 0:\n",
    "            return 2\n",
    "        else:\n",
    "            return 4\n",
    "    else:\n",
    "        if dy > 0:\n",
    "            return 3\n",
    "        else:\n",
    "            return 1"
   ]
  },
  {
   "cell_type": "code",
   "execution_count": 3,
   "metadata": {},
   "outputs": [],
   "source": [
    "def manhattan_distance(start_node: ArrayLike, end_node: ArrayLike) -> int:\n",
    "    return abs(start_node[0] - end_node[0]) + abs(start_node[0] - end_node[0])"
   ]
  },
  {
   "cell_type": "code",
   "execution_count": 4,
   "metadata": {},
   "outputs": [],
   "source": [
    "@dataclass(frozen=True)\n",
    "class Coordinate:\n",
    "    x: int\n",
    "    y: int\n",
    "\n",
    "    def __getitem__(self, index: int):\n",
    "        if index == 0:\n",
    "            return self.x\n",
    "        elif index == 1:\n",
    "            return self.y\n",
    "        else:\n",
    "            raise IndexError(\"Index out of range. Use 0 for 'x' and 1 for 'y'.\")\n",
    "\n",
    "\n",
    "class Graph:\n",
    "    def __init__(self, map_width: int, map_height: int):\n",
    "        self.map: nx.DiGraph = nx.grid_2d_graph(\n",
    "            map_width, map_height, periodic=False, create_using=nx.DiGraph()\n",
    "        )"
   ]
  },
  {
   "cell_type": "code",
   "execution_count": 5,
   "metadata": {},
   "outputs": [],
   "source": [
    "G = Graph(24, 24)\n",
    "obs_player_0 = obs[\"player_0\"]"
   ]
  },
  {
   "cell_type": "code",
   "execution_count": 11,
   "metadata": {},
   "outputs": [],
   "source": [
    "def update_nodes_from_obs(G: nx.DiGraph, obs: Dict[str, Any]):\n",
    "    visible_tiles_indices = jax.numpy.indices(obs[\"sensor_mask\"].shape)[\n",
    "        :, obs[\"sensor_mask\"]\n",
    "    ]\n",
    "    visible_energies = obs[\"map_features\"][\"energy\"][obs[\"sensor_mask\"]]\n",
    "    visible_type_tiles = obs[\"map_features\"][\"tile_type\"][obs[\"sensor_mask\"]]\n",
    "    for i in range(visible_tiles_indices.shape[1]):\n",
    "        node_location = tuple(visible_tiles_indices[:, i].tolist())\n",
    "        symmetric_node_location = tuple(np.array([23, 23]) - np.array(node_location))\n",
    "        cost = visible_energies[i]\n",
    "        G.add_node(node_location, energy=cost, type=visible_type_tiles[i])\n",
    "        G.add_node(symmetric_node_location, energy=cost, type=visible_type_tiles[i])\n",
    "\n",
    "\n",
    "update_nodes_from_obs(G.map, obs_to_dict(obs_player_0))"
   ]
  },
  {
   "cell_type": "code",
   "execution_count": 12,
   "metadata": {},
   "outputs": [
    {
     "data": {
      "text/plain": [
       "NodeDataView({(0, 0): {}, (0, 1): {}, (0, 2): {}, (0, 3): {}, (0, 4): {}, (0, 5): {}, (0, 6): {}, (0, 7): {}, (0, 8): {}, (0, 9): {}, (0, 10): {}, (0, 11): {}, (0, 12): {}, (0, 13): {}, (0, 14): {}, (0, 15): {}, (0, 16): {}, (0, 17): {}, (0, 18): {}, (0, 19): {}, (0, 20): {}, (0, 21): {}, (0, 22): {}, (0, 23): {}, (1, 0): {}, (1, 1): {}, (1, 2): {}, (1, 3): {}, (1, 4): {}, (1, 5): {}, (1, 6): {}, (1, 7): {}, (1, 8): {}, (1, 9): {}, (1, 10): {}, (1, 11): {}, (1, 12): {}, (1, 13): {}, (1, 14): {}, (1, 15): {}, (1, 16): {}, (1, 17): {}, (1, 18): {}, (1, 19): {}, (1, 20): {}, (1, 21): {}, (1, 22): {}, (1, 23): {}, (2, 0): {}, (2, 1): {}, (2, 2): {}, (2, 3): {}, (2, 4): {}, (2, 5): {}, (2, 6): {}, (2, 7): {}, (2, 8): {}, (2, 9): {}, (2, 10): {}, (2, 11): {}, (2, 12): {}, (2, 13): {}, (2, 14): {}, (2, 15): {}, (2, 16): {}, (2, 17): {}, (2, 18): {}, (2, 19): {}, (2, 20): {}, (2, 21): {}, (2, 22): {}, (2, 23): {}, (3, 0): {}, (3, 1): {}, (3, 2): {}, (3, 3): {}, (3, 4): {}, (3, 5): {}, (3, 6): {}, (3, 7): {}, (3, 8): {}, (3, 9): {}, (3, 10): {}, (3, 11): {}, (3, 12): {}, (3, 13): {}, (3, 14): {}, (3, 15): {}, (3, 16): {}, (3, 17): {}, (3, 18): {}, (3, 19): {}, (3, 20): {}, (3, 21): {}, (3, 22): {}, (3, 23): {}, (4, 0): {}, (4, 1): {}, (4, 2): {}, (4, 3): {}, (4, 4): {}, (4, 5): {}, (4, 6): {}, (4, 7): {}, (4, 8): {}, (4, 9): {}, (4, 10): {}, (4, 11): {}, (4, 12): {}, (4, 13): {}, (4, 14): {}, (4, 15): {}, (4, 16): {}, (4, 17): {}, (4, 18): {}, (4, 19): {}, (4, 20): {}, (4, 21): {}, (4, 22): {}, (4, 23): {}, (5, 0): {}, (5, 1): {}, (5, 2): {}, (5, 3): {}, (5, 4): {}, (5, 5): {}, (5, 6): {}, (5, 7): {}, (5, 8): {}, (5, 9): {}, (5, 10): {}, (5, 11): {}, (5, 12): {}, (5, 13): {}, (5, 14): {}, (5, 15): {}, (5, 16): {}, (5, 17): {}, (5, 18): {}, (5, 19): {}, (5, 20): {}, (5, 21): {}, (5, 22): {}, (5, 23): {}, (6, 0): {}, (6, 1): {}, (6, 2): {}, (6, 3): {}, (6, 4): {}, (6, 5): {}, (6, 6): {}, (6, 7): {}, (6, 8): {}, (6, 9): {}, (6, 10): {}, (6, 11): {}, (6, 12): {}, (6, 13): {}, (6, 14): {}, (6, 15): {}, (6, 16): {}, (6, 17): {}, (6, 18): {}, (6, 19): {}, (6, 20): {}, (6, 21): {}, (6, 22): {}, (6, 23): {}, (7, 0): {}, (7, 1): {}, (7, 2): {}, (7, 3): {}, (7, 4): {}, (7, 5): {}, (7, 6): {}, (7, 7): {}, (7, 8): {}, (7, 9): {}, (7, 10): {}, (7, 11): {}, (7, 12): {}, (7, 13): {}, (7, 14): {}, (7, 15): {}, (7, 16): {}, (7, 17): {}, (7, 18): {}, (7, 19): {}, (7, 20): {}, (7, 21): {}, (7, 22): {}, (7, 23): {}, (8, 0): {}, (8, 1): {}, (8, 2): {}, (8, 3): {}, (8, 4): {}, (8, 5): {}, (8, 6): {}, (8, 7): {}, (8, 8): {}, (8, 9): {}, (8, 10): {}, (8, 11): {}, (8, 12): {}, (8, 13): {}, (8, 14): {}, (8, 15): {}, (8, 16): {}, (8, 17): {}, (8, 18): {}, (8, 19): {}, (8, 20): {}, (8, 21): {}, (8, 22): {}, (8, 23): {}, (9, 0): {}, (9, 1): {}, (9, 2): {}, (9, 3): {}, (9, 4): {}, (9, 5): {}, (9, 6): {}, (9, 7): {}, (9, 8): {}, (9, 9): {}, (9, 10): {}, (9, 11): {}, (9, 12): {}, (9, 13): {}, (9, 14): {}, (9, 15): {}, (9, 16): {}, (9, 17): {}, (9, 18): {}, (9, 19): {}, (9, 20): {}, (9, 21): {}, (9, 22): {}, (9, 23): {}, (10, 0): {}, (10, 1): {}, (10, 2): {}, (10, 3): {}, (10, 4): {}, (10, 5): {}, (10, 6): {}, (10, 7): {}, (10, 8): {}, (10, 9): {}, (10, 10): {}, (10, 11): {}, (10, 12): {}, (10, 13): {}, (10, 14): {}, (10, 15): {}, (10, 16): {}, (10, 17): {}, (10, 18): {}, (10, 19): {}, (10, 20): {}, (10, 21): {}, (10, 22): {}, (10, 23): {}, (11, 0): {}, (11, 1): {}, (11, 2): {}, (11, 3): {}, (11, 4): {}, (11, 5): {}, (11, 6): {}, (11, 7): {}, (11, 8): {}, (11, 9): {}, (11, 10): {}, (11, 11): {}, (11, 12): {}, (11, 13): {}, (11, 14): {}, (11, 15): {}, (11, 16): {}, (11, 17): {}, (11, 18): {}, (11, 19): {}, (11, 20): {}, (11, 21): {}, (11, 22): {}, (11, 23): {}, (12, 0): {}, (12, 1): {}, (12, 2): {}, (12, 3): {}, (12, 4): {}, (12, 5): {}, (12, 6): {}, (12, 7): {}, (12, 8): {}, (12, 9): {}, (12, 10): {}, (12, 11): {}, (12, 12): {}, (12, 13): {}, (12, 14): {}, (12, 15): {}, (12, 16): {}, (12, 17): {}, (12, 18): {}, (12, 19): {}, (12, 20): {}, (12, 21): {}, (12, 22): {}, (12, 23): {}, (13, 0): {}, (13, 1): {}, (13, 2): {}, (13, 3): {}, (13, 4): {}, (13, 5): {}, (13, 6): {}, (13, 7): {}, (13, 8): {}, (13, 9): {}, (13, 10): {}, (13, 11): {}, (13, 12): {}, (13, 13): {}, (13, 14): {}, (13, 15): {}, (13, 16): {}, (13, 17): {}, (13, 18): {}, (13, 19): {}, (13, 20): {}, (13, 21): {}, (13, 22): {}, (13, 23): {}, (14, 0): {}, (14, 1): {}, (14, 2): {}, (14, 3): {}, (14, 4): {}, (14, 5): {}, (14, 6): {}, (14, 7): {}, (14, 8): {}, (14, 9): {}, (14, 10): {}, (14, 11): {}, (14, 12): {}, (14, 13): {}, (14, 14): {}, (14, 15): {}, (14, 16): {}, (14, 17): {}, (14, 18): {}, (14, 19): {}, (14, 20): {}, (14, 21): {}, (14, 22): {}, (14, 23): {}, (15, 0): {}, (15, 1): {}, (15, 2): {}, (15, 3): {}, (15, 4): {}, (15, 5): {}, (15, 6): {}, (15, 7): {}, (15, 8): {}, (15, 9): {}, (15, 10): {}, (15, 11): {}, (15, 12): {}, (15, 13): {}, (15, 14): {}, (15, 15): {}, (15, 16): {}, (15, 17): {}, (15, 18): {}, (15, 19): {}, (15, 20): {}, (15, 21): {}, (15, 22): {}, (15, 23): {}, (16, 0): {}, (16, 1): {}, (16, 2): {}, (16, 3): {}, (16, 4): {}, (16, 5): {}, (16, 6): {}, (16, 7): {}, (16, 8): {}, (16, 9): {}, (16, 10): {}, (16, 11): {}, (16, 12): {}, (16, 13): {}, (16, 14): {}, (16, 15): {}, (16, 16): {}, (16, 17): {}, (16, 18): {}, (16, 19): {}, (16, 20): {}, (16, 21): {}, (16, 22): {}, (16, 23): {}, (17, 0): {}, (17, 1): {}, (17, 2): {}, (17, 3): {}, (17, 4): {}, (17, 5): {}, (17, 6): {}, (17, 7): {}, (17, 8): {}, (17, 9): {}, (17, 10): {}, (17, 11): {}, (17, 12): {}, (17, 13): {}, (17, 14): {}, (17, 15): {}, (17, 16): {}, (17, 17): {}, (17, 18): {}, (17, 19): {}, (17, 20): {}, (17, 21): {}, (17, 22): {}, (17, 23): {}, (18, 0): {}, (18, 1): {}, (18, 2): {}, (18, 3): {}, (18, 4): {}, (18, 5): {}, (18, 6): {}, (18, 7): {}, (18, 8): {}, (18, 9): {}, (18, 10): {}, (18, 11): {}, (18, 12): {}, (18, 13): {}, (18, 14): {}, (18, 15): {}, (18, 16): {}, (18, 17): {}, (18, 18): {}, (18, 19): {}, (18, 20): {}, (18, 21): {}, (18, 22): {}, (18, 23): {}, (19, 0): {}, (19, 1): {}, (19, 2): {}, (19, 3): {}, (19, 4): {}, (19, 5): {}, (19, 6): {}, (19, 7): {}, (19, 8): {}, (19, 9): {}, (19, 10): {}, (19, 11): {}, (19, 12): {}, (19, 13): {}, (19, 14): {}, (19, 15): {}, (19, 16): {}, (19, 17): {}, (19, 18): {}, (19, 19): {}, (19, 20): {}, (19, 21): {}, (19, 22): {}, (19, 23): {}, (20, 0): {}, (20, 1): {}, (20, 2): {}, (20, 3): {}, (20, 4): {}, (20, 5): {}, (20, 6): {}, (20, 7): {}, (20, 8): {}, (20, 9): {}, (20, 10): {}, (20, 11): {}, (20, 12): {}, (20, 13): {}, (20, 14): {}, (20, 15): {}, (20, 16): {}, (20, 17): {}, (20, 18): {}, (20, 19): {}, (20, 20): {}, (20, 21): {}, (20, 22): {}, (20, 23): {}, (21, 0): {}, (21, 1): {}, (21, 2): {}, (21, 3): {}, (21, 4): {}, (21, 5): {}, (21, 6): {}, (21, 7): {}, (21, 8): {}, (21, 9): {}, (21, 10): {}, (21, 11): {}, (21, 12): {}, (21, 13): {}, (21, 14): {}, (21, 15): {}, (21, 16): {}, (21, 17): {}, (21, 18): {}, (21, 19): {}, (21, 20): {}, (21, 21): {}, (21, 22): {}, (21, 23): {}, (22, 0): {}, (22, 1): {}, (22, 2): {}, (22, 3): {}, (22, 4): {}, (22, 5): {}, (22, 6): {}, (22, 7): {}, (22, 8): {}, (22, 9): {}, (22, 10): {}, (22, 11): {}, (22, 12): {}, (22, 13): {}, (22, 14): {}, (22, 15): {}, (22, 16): {}, (22, 17): {}, (22, 18): {}, (22, 19): {}, (22, 20): {}, (22, 21): {}, (22, 22): {}, (22, 23): {}, (23, 0): {}, (23, 1): {}, (23, 2): {}, (23, 3): {}, (23, 4): {}, (23, 5): {}, (23, 6): {}, (23, 7): {}, (23, 8): {}, (23, 9): {}, (23, 10): {}, (23, 11): {}, (23, 12): {}, (23, 13): {}, (23, 14): {}, (23, 15): {}, (23, 16): {}, (23, 17): {}, (23, 18): {}, (23, 19): {}, (23, 20): {}, (23, 21): {}, (23, 22): {}, (23, 23): {}})"
      ]
     },
     "execution_count": 12,
     "metadata": {},
     "output_type": "execute_result"
    }
   ],
   "source": [
    "def remove_edges_from_asteroides(G: nx.DiGraph, obs: Namespace):\n",
    "    for n in G.nodes:\n",
    "        if G.nodes[n].get(\"type\", 0) == 2:\n",
    "            for neighbor in G.neighbors(n):\n",
    "                G.remove_edge(n, neighbor)\n",
    "\n",
    "\n",
    "remove_edges_from_asteroides(G.map, obs_player_0)\n",
    "\n",
    "G.map.nodes.data()"
   ]
  },
  {
   "cell_type": "code",
   "execution_count": 13,
   "metadata": {},
   "outputs": [],
   "source": [
    "def update_edges_cost_from_energy_nodes(G: nx.DiGraph):\n",
    "    for node_in, node_out in G.edges:\n",
    "        # Get energy values of the two nodes\n",
    "        energy_node_in = G.nodes[node_in].get(\"energy\", 0)\n",
    "        energy_node_out = G.nodes[node_out].get(\"energy\", 0)\n",
    "\n",
    "        # Calculate edge cost as |energy_u - energy_v| + 1000\n",
    "        cost = energy_node_in - energy_node_out + 1000\n",
    "        G.edges[node_in, node_out][\"cost\"] = cost\n",
    "\n",
    "\n",
    "update_edges_cost_from_energy_nodes(G.map)"
   ]
  },
  {
   "cell_type": "code",
   "execution_count": 14,
   "metadata": {},
   "outputs": [
    {
     "data": {
      "text/plain": [
       "2"
      ]
     },
     "execution_count": 14,
     "metadata": {},
     "output_type": "execute_result"
    }
   ],
   "source": [
    "def get_closest_path(\n",
    "    G: nx.DiGraph, start_node: ArrayLike, end_node: ArrayLike\n",
    ") -> ArrayLike:\n",
    "    return nx.astar_path(\n",
    "        G, start_node, end_node, heuristic=manhattan_distance, weight=\"cost\"\n",
    "    )\n",
    "\n",
    "\n",
    "list_nodes = get_closest_path(G.map, (0, 0), (16, 16))\n",
    "direction_to(jnp.array(list_nodes[0]), jnp.array(list_nodes[1]))"
   ]
  },
  {
   "cell_type": "code",
   "execution_count": 33,
   "metadata": {},
   "outputs": [],
   "source": [
    "class Agent:\n",
    "    def __init__(self, player: str, env_cfg: Dict[str, Any]) -> None:\n",
    "        np.random.seed(0)\n",
    "\n",
    "        self.player = player\n",
    "        self.opp_player = \"player_1\" if self.player == \"player_0\" else \"player_0\"\n",
    "        self.team_id = 0 if self.player == \"player_0\" else 1\n",
    "        self.opp_team_id = 1 if self.team_id == 0 else 0\n",
    "        self.env_cfg = env_cfg\n",
    "\n",
    "        self.map = Graph(env_cfg[\"map_width\"], env_cfg[\"map_height\"])\n",
    "        print(self.map)\n",
    "\n",
    "        self.unit_explore_locations = dict()\n",
    "\n",
    "    def act(self, step: int, obs: Dict[str, Any], remainingOverageTime: int = 60):\n",
    "        \"\"\"implement this function to decide what actions to send to each available unit.\n",
    "\n",
    "        step is the current timestep number of the game starting from 0 going up to max_steps_in_match * match_count_per_episode - 1.\n",
    "        \"\"\"\n",
    "        update_nodes_from_obs(G.map, obs)\n",
    "\n",
    "        unit_mask = np.array(obs[\"units_mask\"][self.team_id])\n",
    "        unit_positions = np.array(\n",
    "            obs[\"units\"][\"position\"][self.team_id]\n",
    "        )  # shape (max_units, 2)\n",
    "        available_unit_ids = np.where(unit_mask)[0]\n",
    "\n",
    "        # Act randomly\n",
    "        actions = np.zeros((self.env_cfg[\"max_units\"], 3), dtype=int)\n",
    "\n",
    "        for unit_id in available_unit_ids:\n",
    "            unit_pos = unit_positions[unit_id]\n",
    "\n",
    "            if unit_id not in self.unit_explore_locations:\n",
    "                self.unit_explore_locations[unit_id] = (\n",
    "                    np.random.randint(0, self.env_cfg[\"map_width\"]),\n",
    "                    np.random.randint(0, self.env_cfg[\"map_height\"]),\n",
    "                )\n",
    "\n",
    "            print(self.unit_explore_locations[unit_id])\n",
    "            list_nodes = get_closest_path(G.map, unit_pos, self.unit_explore_locations[unit_id])\n",
    "            print(list_nodes)\n",
    "            actions[unit_id] = [\n",
    "                direction_to(jnp.array(list_nodes[0]), jnp.array(list_nodes[1])),\n",
    "                0,\n",
    "                0,\n",
    "            ]\n",
    "        return actions"
   ]
  },
  {
   "cell_type": "code",
   "execution_count": 34,
   "metadata": {},
   "outputs": [
    {
     "name": "stdout",
     "output_type": "stream",
     "text": [
      "<__main__.Graph object at 0x7ff23c5fb010>\n",
      "(12, 15)\n"
     ]
    },
    {
     "ename": "NodeNotFound",
     "evalue": "Source [9 7] is not in G",
     "output_type": "error",
     "traceback": [
      "\u001b[0;31m---------------------------------------------------------------------------\u001b[0m",
      "\u001b[0;31mNodeNotFound\u001b[0m                              Traceback (most recent call last)",
      "Cell \u001b[0;32mIn[34], line 34\u001b[0m\n\u001b[1;32m     13\u001b[0m \u001b[38;5;28;01mdef\u001b[39;00m \u001b[38;5;21mobs_to_dict\u001b[39m(obs: EnvObs) \u001b[38;5;241m-\u001b[39m\u001b[38;5;241m>\u001b[39m Dict[\u001b[38;5;28mstr\u001b[39m, Any]:\n\u001b[1;32m     14\u001b[0m     \u001b[38;5;28;01mreturn\u001b[39;00m {\n\u001b[1;32m     15\u001b[0m         \u001b[38;5;124m\"\u001b[39m\u001b[38;5;124munits\u001b[39m\u001b[38;5;124m\"\u001b[39m: {\n\u001b[1;32m     16\u001b[0m             \u001b[38;5;124m\"\u001b[39m\u001b[38;5;124mposition\u001b[39m\u001b[38;5;124m\"\u001b[39m: obs\u001b[38;5;241m.\u001b[39munits\u001b[38;5;241m.\u001b[39mposition,\n\u001b[0;32m   (...)\u001b[0m\n\u001b[1;32m     30\u001b[0m         \u001b[38;5;124m\"\u001b[39m\u001b[38;5;124mmatch_steps\u001b[39m\u001b[38;5;124m\"\u001b[39m: obs\u001b[38;5;241m.\u001b[39mmatch_steps,\n\u001b[1;32m     31\u001b[0m     }\n\u001b[0;32m---> 34\u001b[0m \u001b[43mAgent\u001b[49m\u001b[43m(\u001b[49m\u001b[38;5;124;43m\"\u001b[39;49m\u001b[38;5;124;43mplayer_0\u001b[39;49m\u001b[38;5;124;43m\"\u001b[39;49m\u001b[43m,\u001b[49m\u001b[43m \u001b[49m\u001b[43menv_params_to_dict\u001b[49m\u001b[43m(\u001b[49m\u001b[43menv_params\u001b[49m\u001b[43m)\u001b[49m\u001b[43m)\u001b[49m\u001b[38;5;241;43m.\u001b[39;49m\u001b[43mact\u001b[49m\u001b[43m(\u001b[49m\u001b[38;5;241;43m0\u001b[39;49m\u001b[43m,\u001b[49m\u001b[43m \u001b[49m\u001b[43mobs_to_dict\u001b[49m\u001b[43m(\u001b[49m\u001b[43mobs\u001b[49m\u001b[43m[\u001b[49m\u001b[38;5;124;43m\"\u001b[39;49m\u001b[38;5;124;43mplayer_0\u001b[39;49m\u001b[38;5;124;43m\"\u001b[39;49m\u001b[43m]\u001b[49m\u001b[43m)\u001b[49m\u001b[43m)\u001b[49m\n",
      "Cell \u001b[0;32mIn[33], line 42\u001b[0m, in \u001b[0;36mAgent.act\u001b[0;34m(self, step, obs, remainingOverageTime)\u001b[0m\n\u001b[1;32m     36\u001b[0m     \u001b[38;5;28mself\u001b[39m\u001b[38;5;241m.\u001b[39munit_explore_locations[unit_id] \u001b[38;5;241m=\u001b[39m (\n\u001b[1;32m     37\u001b[0m         np\u001b[38;5;241m.\u001b[39mrandom\u001b[38;5;241m.\u001b[39mrandint(\u001b[38;5;241m0\u001b[39m, \u001b[38;5;28mself\u001b[39m\u001b[38;5;241m.\u001b[39menv_cfg[\u001b[38;5;124m\"\u001b[39m\u001b[38;5;124mmap_width\u001b[39m\u001b[38;5;124m\"\u001b[39m]),\n\u001b[1;32m     38\u001b[0m         np\u001b[38;5;241m.\u001b[39mrandom\u001b[38;5;241m.\u001b[39mrandint(\u001b[38;5;241m0\u001b[39m, \u001b[38;5;28mself\u001b[39m\u001b[38;5;241m.\u001b[39menv_cfg[\u001b[38;5;124m\"\u001b[39m\u001b[38;5;124mmap_height\u001b[39m\u001b[38;5;124m\"\u001b[39m]),\n\u001b[1;32m     39\u001b[0m     )\n\u001b[1;32m     41\u001b[0m \u001b[38;5;28mprint\u001b[39m(\u001b[38;5;28mself\u001b[39m\u001b[38;5;241m.\u001b[39munit_explore_locations[unit_id])\n\u001b[0;32m---> 42\u001b[0m list_nodes \u001b[38;5;241m=\u001b[39m \u001b[43mget_closest_path\u001b[49m\u001b[43m(\u001b[49m\u001b[43mG\u001b[49m\u001b[38;5;241;43m.\u001b[39;49m\u001b[43mmap\u001b[49m\u001b[43m,\u001b[49m\u001b[43m \u001b[49m\u001b[43munit_pos\u001b[49m\u001b[43m,\u001b[49m\u001b[43m \u001b[49m\u001b[38;5;28;43mself\u001b[39;49m\u001b[38;5;241;43m.\u001b[39;49m\u001b[43munit_explore_locations\u001b[49m\u001b[43m[\u001b[49m\u001b[43munit_id\u001b[49m\u001b[43m]\u001b[49m\u001b[43m)\u001b[49m\n\u001b[1;32m     43\u001b[0m \u001b[38;5;28mprint\u001b[39m(list_nodes)\n\u001b[1;32m     44\u001b[0m actions[unit_id] \u001b[38;5;241m=\u001b[39m [\n\u001b[1;32m     45\u001b[0m     direction_to(jnp\u001b[38;5;241m.\u001b[39marray(list_nodes[\u001b[38;5;241m0\u001b[39m]), jnp\u001b[38;5;241m.\u001b[39marray(list_nodes[\u001b[38;5;241m1\u001b[39m])),\n\u001b[1;32m     46\u001b[0m     \u001b[38;5;241m0\u001b[39m,\n\u001b[1;32m     47\u001b[0m     \u001b[38;5;241m0\u001b[39m,\n\u001b[1;32m     48\u001b[0m ]\n",
      "Cell \u001b[0;32mIn[14], line 4\u001b[0m, in \u001b[0;36mget_closest_path\u001b[0;34m(G, start_node, end_node)\u001b[0m\n\u001b[1;32m      1\u001b[0m \u001b[38;5;28;01mdef\u001b[39;00m \u001b[38;5;21mget_closest_path\u001b[39m(\n\u001b[1;32m      2\u001b[0m     G: nx\u001b[38;5;241m.\u001b[39mDiGraph, start_node: ArrayLike, end_node: ArrayLike\n\u001b[1;32m      3\u001b[0m ) \u001b[38;5;241m-\u001b[39m\u001b[38;5;241m>\u001b[39m ArrayLike:\n\u001b[0;32m----> 4\u001b[0m     \u001b[38;5;28;01mreturn\u001b[39;00m \u001b[43mnx\u001b[49m\u001b[38;5;241;43m.\u001b[39;49m\u001b[43mastar_path\u001b[49m\u001b[43m(\u001b[49m\n\u001b[1;32m      5\u001b[0m \u001b[43m        \u001b[49m\u001b[43mG\u001b[49m\u001b[43m,\u001b[49m\u001b[43m \u001b[49m\u001b[43mstart_node\u001b[49m\u001b[43m,\u001b[49m\u001b[43m \u001b[49m\u001b[43mend_node\u001b[49m\u001b[43m,\u001b[49m\u001b[43m \u001b[49m\u001b[43mheuristic\u001b[49m\u001b[38;5;241;43m=\u001b[39;49m\u001b[43mmanhattan_distance\u001b[49m\u001b[43m,\u001b[49m\u001b[43m \u001b[49m\u001b[43mweight\u001b[49m\u001b[38;5;241;43m=\u001b[39;49m\u001b[38;5;124;43m\"\u001b[39;49m\u001b[38;5;124;43mcost\u001b[39;49m\u001b[38;5;124;43m\"\u001b[39;49m\n\u001b[1;32m      6\u001b[0m \u001b[43m    \u001b[49m\u001b[43m)\u001b[49m\n",
      "File \u001b[0;32m<class 'networkx.utils.decorators.argmap'> compilation 20:3\u001b[0m, in \u001b[0;36margmap_astar_path_17\u001b[0;34m(G, source, target, heuristic, weight, cutoff, backend, **backend_kwargs)\u001b[0m\n\u001b[1;32m      1\u001b[0m \u001b[38;5;28;01mimport\u001b[39;00m \u001b[38;5;21;01mbz2\u001b[39;00m\n\u001b[1;32m      2\u001b[0m \u001b[38;5;28;01mimport\u001b[39;00m \u001b[38;5;21;01mcollections\u001b[39;00m\n\u001b[0;32m----> 3\u001b[0m \u001b[38;5;28;01mimport\u001b[39;00m \u001b[38;5;21;01mgzip\u001b[39;00m\n\u001b[1;32m      4\u001b[0m \u001b[38;5;28;01mimport\u001b[39;00m \u001b[38;5;21;01minspect\u001b[39;00m\n\u001b[1;32m      5\u001b[0m \u001b[38;5;28;01mimport\u001b[39;00m \u001b[38;5;21;01mitertools\u001b[39;00m\n",
      "File \u001b[0;32m~/.cache/pypoetry/virtualenvs/lux-s3-bot-QknvIJxg-py3.11/lib/python3.11/site-packages/networkx/utils/backends.py:967\u001b[0m, in \u001b[0;36m_dispatchable.__call__\u001b[0;34m(self, backend, *args, **kwargs)\u001b[0m\n\u001b[1;32m    965\u001b[0m     \u001b[38;5;28;01mif\u001b[39;00m backend \u001b[38;5;129;01mis\u001b[39;00m \u001b[38;5;129;01mnot\u001b[39;00m \u001b[38;5;28;01mNone\u001b[39;00m \u001b[38;5;129;01mand\u001b[39;00m backend \u001b[38;5;241m!=\u001b[39m \u001b[38;5;124m\"\u001b[39m\u001b[38;5;124mnetworkx\u001b[39m\u001b[38;5;124m\"\u001b[39m:\n\u001b[1;32m    966\u001b[0m         \u001b[38;5;28;01mraise\u001b[39;00m \u001b[38;5;167;01mImportError\u001b[39;00m(\u001b[38;5;124mf\u001b[39m\u001b[38;5;124m\"\u001b[39m\u001b[38;5;124m'\u001b[39m\u001b[38;5;132;01m{\u001b[39;00mbackend\u001b[38;5;132;01m}\u001b[39;00m\u001b[38;5;124m'\u001b[39m\u001b[38;5;124m backend is not installed\u001b[39m\u001b[38;5;124m\"\u001b[39m)\n\u001b[0;32m--> 967\u001b[0m     \u001b[38;5;28;01mreturn\u001b[39;00m \u001b[38;5;28;43mself\u001b[39;49m\u001b[38;5;241;43m.\u001b[39;49m\u001b[43morig_func\u001b[49m\u001b[43m(\u001b[49m\u001b[38;5;241;43m*\u001b[39;49m\u001b[43margs\u001b[49m\u001b[43m,\u001b[49m\u001b[43m \u001b[49m\u001b[38;5;241;43m*\u001b[39;49m\u001b[38;5;241;43m*\u001b[39;49m\u001b[43mkwargs\u001b[49m\u001b[43m)\u001b[49m\n\u001b[1;32m    969\u001b[0m \u001b[38;5;66;03m# Use `backend_name` in this function instead of `backend`.\u001b[39;00m\n\u001b[1;32m    970\u001b[0m \u001b[38;5;66;03m# This is purely for aesthetics and to make it easier to search for this\u001b[39;00m\n\u001b[1;32m    971\u001b[0m \u001b[38;5;66;03m# variable since \"backend\" is used in many comments and log/error messages.\u001b[39;00m\n\u001b[1;32m    972\u001b[0m backend_name \u001b[38;5;241m=\u001b[39m backend\n",
      "File \u001b[0;32m~/.cache/pypoetry/virtualenvs/lux-s3-bot-QknvIJxg-py3.11/lib/python3.11/site-packages/networkx/algorithms/shortest_paths/astar.py:95\u001b[0m, in \u001b[0;36mastar_path\u001b[0;34m(G, source, target, heuristic, weight, cutoff)\u001b[0m\n\u001b[1;32m     14\u001b[0m \u001b[38;5;250m\u001b[39m\u001b[38;5;124;03m\"\"\"Returns a list of nodes in a shortest path between source and target\u001b[39;00m\n\u001b[1;32m     15\u001b[0m \u001b[38;5;124;03musing the A* (\"A-star\") algorithm.\u001b[39;00m\n\u001b[1;32m     16\u001b[0m \n\u001b[0;32m   (...)\u001b[0m\n\u001b[1;32m     92\u001b[0m \n\u001b[1;32m     93\u001b[0m \u001b[38;5;124;03m\"\"\"\u001b[39;00m\n\u001b[1;32m     94\u001b[0m \u001b[38;5;28;01mif\u001b[39;00m source \u001b[38;5;129;01mnot\u001b[39;00m \u001b[38;5;129;01min\u001b[39;00m G:\n\u001b[0;32m---> 95\u001b[0m     \u001b[38;5;28;01mraise\u001b[39;00m nx\u001b[38;5;241m.\u001b[39mNodeNotFound(\u001b[38;5;124mf\u001b[39m\u001b[38;5;124m\"\u001b[39m\u001b[38;5;124mSource \u001b[39m\u001b[38;5;132;01m{\u001b[39;00msource\u001b[38;5;132;01m}\u001b[39;00m\u001b[38;5;124m is not in G\u001b[39m\u001b[38;5;124m\"\u001b[39m)\n\u001b[1;32m     97\u001b[0m \u001b[38;5;28;01mif\u001b[39;00m target \u001b[38;5;129;01mnot\u001b[39;00m \u001b[38;5;129;01min\u001b[39;00m G:\n\u001b[1;32m     98\u001b[0m     \u001b[38;5;28;01mraise\u001b[39;00m nx\u001b[38;5;241m.\u001b[39mNodeNotFound(\u001b[38;5;124mf\u001b[39m\u001b[38;5;124m\"\u001b[39m\u001b[38;5;124mTarget \u001b[39m\u001b[38;5;132;01m{\u001b[39;00mtarget\u001b[38;5;132;01m}\u001b[39;00m\u001b[38;5;124m is not in G\u001b[39m\u001b[38;5;124m\"\u001b[39m)\n",
      "\u001b[0;31mNodeNotFound\u001b[0m: Source [9 7] is not in G"
     ]
    }
   ],
   "source": [
    "from luxai_s3.state import EnvObs\n",
    "\n",
    "\n",
    "def env_params_to_dict(env_params: EnvParams) -> Dict[str, Any]:\n",
    "    return {\n",
    "        \"map_width\": env_params.map_width,\n",
    "        \"map_height\": env_params.map_height,\n",
    "        \"max_steps_in_match\": env_params.max_steps_in_match,\n",
    "        \"max_units\": env_params.max_units,\n",
    "    }\n",
    "\n",
    "\n",
    "def obs_to_dict(obs: EnvObs) -> Dict[str, Any]:\n",
    "    return {\n",
    "        \"units\": {\n",
    "            \"position\": obs.units.position,\n",
    "            \"energy\": obs.units.energy,\n",
    "        },\n",
    "        \"units_mask\": obs.units_mask,\n",
    "        \"sensor_mask\": obs.sensor_mask,\n",
    "        \"map_features\": {\n",
    "            \"energy\": obs.map_features.energy,\n",
    "            \"tile_type\": obs.map_features.tile_type,\n",
    "        },\n",
    "        \"relic_nodes\": obs.relic_nodes,\n",
    "        \"relic_nodes_mask\": obs.relic_nodes_mask,\n",
    "        \"team_points\": obs.team_points,\n",
    "        \"team_wins\": obs.team_wins,\n",
    "        \"steps\": obs.steps,\n",
    "        \"match_steps\": obs.match_steps,\n",
    "    }\n",
    "\n",
    "\n",
    "Agent(\"player_0\", env_params_to_dict(env_params)).act(0, obs_to_dict(obs[\"player_0\"]))"
   ]
  },
  {
   "cell_type": "code",
   "execution_count": 21,
   "metadata": {},
   "outputs": [],
   "source": [
    "from typing import OrderedDict\n",
    "\n",
    "\n",
    "agent_0 = Agent(\"player_0\", env_params_to_dict(env_params))\n",
    "agent_1 = Agent(\"player_1\", env_params_to_dict(env_params))\n",
    "\n",
    "for _ in range(19):\n",
    "    key, subkey = jax.random.split(key)\n",
    "    action = OrderedDict(\n",
    "        {\n",
    "            \"player_0\": agent_0.act(0, obs_to_dict(obs[\"player_0\"])),\n",
    "            \"player_1\": agent_1.act(0, obs_to_dict(obs[\"player_1\"])),\n",
    "        }\n",
    "    )\n",
    "    obs, state, reward, terminated, truncated, info = env.step(\n",
    "        subkey, state, action, params=env_params\n",
    "    )"
   ]
  }
 ],
 "metadata": {
  "kernelspec": {
   "display_name": "lux-s3-bot-QknvIJxg-py3.11",
   "language": "python",
   "name": "python3"
  },
  "language_info": {
   "codemirror_mode": {
    "name": "ipython",
    "version": 3
   },
   "file_extension": ".py",
   "mimetype": "text/x-python",
   "name": "python",
   "nbconvert_exporter": "python",
   "pygments_lexer": "ipython3",
   "version": "3.11.2"
  }
 },
 "nbformat": 4,
 "nbformat_minor": 2
}
