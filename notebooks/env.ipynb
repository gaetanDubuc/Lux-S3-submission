{
 "cells": [
  {
   "cell_type": "code",
   "execution_count": 1,
   "metadata": {},
   "outputs": [
    {
     "name": "stderr",
     "output_type": "stream",
     "text": [
      "An NVIDIA GPU may be present on this machine, but a CUDA-enabled jaxlib is not installed. Falling back to cpu.\n"
     ]
    },
    {
     "data": {
      "text/plain": [
       "EnvParams(max_steps_in_match=50, map_type=0, map_width=24, map_height=24, num_teams=2, match_count_per_episode=5, max_units=16, init_unit_energy=100, min_unit_energy=0, max_unit_energy=400, unit_move_cost=2, spawn_rate=5, unit_sap_cost=10, unit_sap_range=4, unit_sap_dropoff_factor=0.5, unit_energy_void_factor=0.125, max_energy_nodes=6, max_energy_per_tile=20, min_energy_per_tile=-20, max_relic_nodes=6, relic_config_size=5, fog_of_war=True, unit_sensor_range=2, nebula_tile_vision_reduction=1, nebula_tile_energy_reduction=0, nebula_tile_drift_speed=-0.05, energy_node_drift_speed=0.02, energy_node_drift_magnitude=5)"
      ]
     },
     "execution_count": 1,
     "metadata": {},
     "output_type": "execute_result"
    }
   ],
   "source": [
    "import json\n",
    "import time\n",
    "\n",
    "import flax\n",
    "import flax.serialization\n",
    "from luxai_s3.params import EnvParams\n",
    "from luxai_s3.state import EnvState, serialize_env_actions, serialize_env_states\n",
    "import jax\n",
    "import jax.numpy as jnp\n",
    "\n",
    "from luxai_s3.env import LuxAIS3Env\n",
    "\n",
    "# from luxai_s3.wrappers import RecordEpisode\n",
    "\n",
    "# Create the environment\n",
    "env = LuxAIS3Env(auto_reset=False)\n",
    "env_params = EnvParams(map_type=0, max_steps_in_match=50)\n",
    "\n",
    "# Initialize a random key\n",
    "key = jax.random.key(0)\n",
    "\n",
    "# Reset the environment\n",
    "key, reset_key = jax.random.split(key)\n",
    "obs, state = env.reset(reset_key, params=env_params)\n",
    "# Take a random action\n",
    "key, subkey = jax.random.split(key)\n",
    "\n",
    "env_params"
   ]
  },
  {
   "cell_type": "code",
   "execution_count": 2,
   "metadata": {},
   "outputs": [],
   "source": [
    "for _ in range(5):\n",
    "    key, subkey = jax.random.split(key)\n",
    "    action = env.action_space(env_params).sample(subkey)\n",
    "    obs, state, reward, terminated, truncated, info = env.step(\n",
    "        subkey, state, action, params=env_params\n",
    "    )"
   ]
  },
  {
   "cell_type": "code",
   "execution_count": 4,
   "metadata": {},
   "outputs": [],
   "source": [
    "from argparse import Namespace\n",
    "from dataclasses import dataclass\n",
    "from typing import Any, Dict\n",
    "import numpy as np\n",
    "import networkx as nx\n",
    "import numpy as np\n",
    "from numpy.typing import ArrayLike, NDArray\n",
    "\n",
    "\n",
    "class Agent:\n",
    "    def __init__(self, player: str, env_cfg: Dict[str, Any]) -> None:\n",
    "        self.player = player\n",
    "        self.opp_player = \"player_1\" if self.player == \"player_0\" else \"player_0\"\n",
    "        self.team_id = 0 if self.player == \"player_0\" else 1\n",
    "        self.opp_team_id = 1 if self.team_id == 0 else 0\n",
    "        np.random.seed(0)\n",
    "        self.env_cfg = env_cfg\n",
    "\n",
    "        self.map = Graph(env_cfg[\"map_width\"], env_cfg[\"map_height\"])\n",
    "\n",
    "    def act(self, step: int, obs: Dict[str, Any], remainingOverageTime: int = 60):\n",
    "        \"\"\"implement this function to decide what actions to send to each available unit.\n",
    "\n",
    "        step is the current timestep number of the game starting from 0 going up to max_steps_in_match * match_count_per_episode - 1.\n",
    "        \"\"\"\n",
    "\n",
    "        unit_mask = np.array(obs[\"units_mask\"][self.team_id])\n",
    "        unit_positions: NDArray[np.int16] = np.array(\n",
    "            obs[\"units\"][\"position\"][self.team_id]\n",
    "        )[unit_mask]\n",
    "        return 0"
   ]
  },
  {
   "cell_type": "code",
   "execution_count": 5,
   "metadata": {},
   "outputs": [],
   "source": [
    "def direction_to(src, target):\n",
    "    ds = target - src\n",
    "    dx = ds[0]\n",
    "    dy = ds[1]\n",
    "    if dx == 0 and dy == 0:\n",
    "        return 0\n",
    "    if abs(dx) > abs(dy):\n",
    "        if dx > 0:\n",
    "            return 2\n",
    "        else:\n",
    "            return 4\n",
    "    else:\n",
    "        if dy > 0:\n",
    "            return 3\n",
    "        else:\n",
    "            return 1\n",
    "\n",
    "\n",
    "def manhattan_distance(start_node: ArrayLike, end_node: ArrayLike) -> int:\n",
    "    return abs(start_node[0] - end_node[0]) + abs(start_node[0] - end_node[0])"
   ]
  },
  {
   "cell_type": "code",
   "execution_count": 6,
   "metadata": {},
   "outputs": [],
   "source": [
    "\n",
    "\n",
    "@dataclass(frozen=True)\n",
    "class Coordinate:\n",
    "    x: int\n",
    "    y: int\n",
    "\n",
    "    def __getitem__(self, index: int):\n",
    "        if index == 0:\n",
    "            return self.x\n",
    "        elif index == 1:\n",
    "            return self.y\n",
    "        else:\n",
    "            raise IndexError(\"Index out of range. Use 0 for 'x' and 1 for 'y'.\")\n",
    "\n",
    "\n",
    "class Graph:\n",
    "    def __init__(self, map_width: int, map_height: int):\n",
    "        self.map: nx.DiGraph = nx.grid_2d_graph(\n",
    "            map_width, map_height, periodic=False, create_using=nx.DiGraph()\n",
    "        )\n",
    "\n",
    "    def update_cost(self, node: ArrayLike, cost: float):\n",
    "        nx.set_edge_attributes(self.map, cost, \"cost\")\n",
    "\n",
    "    def map_shortest_path_to_action(\n",
    "        self, start_node: ArrayLike, end_node: ArrayLike\n",
    "    ) -> int:\n",
    "        next_node = nx.astar_path(\n",
    "            self.map, start_node, end_node, heuristic=manhattan_distance\n",
    "        )[1]\n",
    "\n",
    "        return direction_to(np.array(start_node), np.array(next_node))"
   ]
  },
  {
   "cell_type": "code",
   "execution_count": 7,
   "metadata": {},
   "outputs": [],
   "source": [
    "G = Graph(24, 24)\n",
    "{e: 0 for e in G.map.edges()}\n",
    "G.map.add_node((0, 0))"
   ]
  },
  {
   "cell_type": "code",
   "execution_count": null,
   "metadata": {},
   "outputs": [],
   "source": []
  },
  {
   "cell_type": "code",
   "execution_count": 38,
   "metadata": {},
   "outputs": [
    {
     "data": {
      "text/plain": [
       "Array([[0, 0, 0, 0, 1, 1, 1, 1, 2, 2, 2, 2],\n",
       "       [0, 1, 2, 3, 0, 1, 2, 3, 0, 1, 2, 3]], dtype=int32)"
      ]
     },
     "execution_count": 38,
     "metadata": {},
     "output_type": "execute_result"
    }
   ],
   "source": [
    "obs[\"player_0\"].sensor_mask.shape\n",
    "\n",
    "jax.numpy.indices(obs[\"player_0\"].sensor_mask.shape)[:, obs[\"player_0\"].sensor_mask]"
   ]
  },
  {
   "cell_type": "code",
   "execution_count": 41,
   "metadata": {},
   "outputs": [
    {
     "data": {
      "text/plain": [
       "Array([[ 5,  4,  2,  0, -1, -1, -1, -1, -1, -1, -1, -1, -1, -1, -1, -1,\n",
       "        -1, -1, -1, -1, -1, -1, -1, -1],\n",
       "       [ 4,  2,  0, -1, -1, -1, -1, -1, -1, -1, -1, -1, -1, -1, -1, -1,\n",
       "        -1, -1, -1, -1, -1, -1, -1, -1],\n",
       "       [ 2,  0, -1,  0, -1, -1, -1, -1, -1, -1, -1, -1, -1, -1, -1, -1,\n",
       "        -1, -1, -1, -1, -1, -1, -1, -1],\n",
       "       [-1, -1, -1, -1, -1, -1, -1, -1, -1, -1, -1, -1, -1, -1, -1, -1,\n",
       "        -1, -1, -1, -1, -1, -1, -1, -1],\n",
       "       [-1, -1, -1, -1, -1, -1, -1, -1, -1, -1, -1, -1, -1, -1, -1, -1,\n",
       "        -1, -1, -1, -1, -1, -1, -1, -1],\n",
       "       [-1, -1, -1, -1, -1, -1, -1, -1, -1, -1, -1, -1, -1, -1, -1, -1,\n",
       "        -1, -1, -1, -1, -1, -1, -1, -1],\n",
       "       [-1, -1, -1, -1, -1, -1, -1, -1, -1, -1, -1, -1, -1, -1, -1, -1,\n",
       "        -1, -1, -1, -1, -1, -1, -1, -1],\n",
       "       [-1, -1, -1, -1, -1, -1, -1, -1, -1, -1, -1, -1, -1, -1, -1, -1,\n",
       "        -1, -1, -1, -1, -1, -1, -1, -1],\n",
       "       [-1, -1, -1, -1, -1, -1, -1, -1, -1, -1, -1, -1, -1, -1, -1, -1,\n",
       "        -1, -1, -1, -1, -1, -1, -1, -1],\n",
       "       [-1, -1, -1, -1, -1, -1, -1, -1, -1, -1, -1, -1, -1, -1, -1, -1,\n",
       "        -1, -1, -1, -1, -1, -1, -1, -1],\n",
       "       [-1, -1, -1, -1, -1, -1, -1, -1, -1, -1, -1, -1, -1, -1, -1, -1,\n",
       "        -1, -1, -1, -1, -1, -1, -1, -1],\n",
       "       [-1, -1, -1, -1, -1, -1, -1, -1, -1, -1, -1, -1, -1, -1, -1, -1,\n",
       "        -1, -1, -1, -1, -1, -1, -1, -1],\n",
       "       [-1, -1, -1, -1, -1, -1, -1, -1, -1, -1, -1, -1, -1, -1, -1, -1,\n",
       "        -1, -1, -1, -1, -1, -1, -1, -1],\n",
       "       [-1, -1, -1, -1, -1, -1, -1, -1, -1, -1, -1, -1, -1, -1, -1, -1,\n",
       "        -1, -1, -1, -1, -1, -1, -1, -1],\n",
       "       [-1, -1, -1, -1, -1, -1, -1, -1, -1, -1, -1, -1, -1, -1, -1, -1,\n",
       "        -1, -1, -1, -1, -1, -1, -1, -1],\n",
       "       [-1, -1, -1, -1, -1, -1, -1, -1, -1, -1, -1, -1, -1, -1, -1, -1,\n",
       "        -1, -1, -1, -1, -1, -1, -1, -1],\n",
       "       [-1, -1, -1, -1, -1, -1, -1, -1, -1, -1, -1, -1, -1, -1, -1, -1,\n",
       "        -1, -1, -1, -1, -1, -1, -1, -1],\n",
       "       [-1, -1, -1, -1, -1, -1, -1, -1, -1, -1, -1, -1, -1, -1, -1, -1,\n",
       "        -1, -1, -1, -1, -1, -1, -1, -1],\n",
       "       [-1, -1, -1, -1, -1, -1, -1, -1, -1, -1, -1, -1, -1, -1, -1, -1,\n",
       "        -1, -1, -1, -1, -1, -1, -1, -1],\n",
       "       [-1, -1, -1, -1, -1, -1, -1, -1, -1, -1, -1, -1, -1, -1, -1, -1,\n",
       "        -1, -1, -1, -1, -1, -1, -1, -1],\n",
       "       [-1, -1, -1, -1, -1, -1, -1, -1, -1, -1, -1, -1, -1, -1, -1, -1,\n",
       "        -1, -1, -1, -1, -1, -1, -1, -1],\n",
       "       [-1, -1, -1, -1, -1, -1, -1, -1, -1, -1, -1, -1, -1, -1, -1, -1,\n",
       "        -1, -1, -1, -1, -1, -1, -1, -1],\n",
       "       [-1, -1, -1, -1, -1, -1, -1, -1, -1, -1, -1, -1, -1, -1, -1, -1,\n",
       "        -1, -1, -1, -1, -1, -1, -1, -1],\n",
       "       [-1, -1, -1, -1, -1, -1, -1, -1, -1, -1, -1, -1, -1, -1, -1, -1,\n",
       "        -1, -1, -1, -1, -1, -1, -1, -1]], dtype=int16)"
      ]
     },
     "execution_count": 41,
     "metadata": {},
     "output_type": "execute_result"
    }
   ],
   "source": [
    "obs[\"player_0\"].map_features.energy"
   ]
  },
  {
   "cell_type": "code",
   "execution_count": 23,
   "metadata": {},
   "outputs": [
    {
     "name": "stdout",
     "output_type": "stream",
     "text": [
      "2208\n"
     ]
    },
    {
     "data": {
      "text/plain": [
       "0"
      ]
     },
     "execution_count": 23,
     "metadata": {},
     "output_type": "execute_result"
    }
   ],
   "source": [
    "from luxai_s3.state import EnvObs\n",
    "\n",
    "\n",
    "def env_params_to_dict(env_params: EnvParams) -> Dict[str, Any]:\n",
    "    return {\n",
    "        \"map_width\": env_params.map_width,\n",
    "        \"map_height\": env_params.map_height,\n",
    "        \"max_steps_in_match\": env_params.max_steps_in_match,\n",
    "    }\n",
    "\n",
    "\n",
    "def obs_to_dict(obs: EnvObs) -> Dict[str, Any]:\n",
    "    return {\n",
    "        \"units\": {\n",
    "            \"position\": obs.units.position,\n",
    "            \"energy\": obs.units.energy,\n",
    "        },\n",
    "        \"units_mask\": obs.units_mask,\n",
    "        \"sensor_mask\": obs.sensor_mask,\n",
    "        \"map_features\": {\n",
    "            \"energy\": obs.map_features.energy,\n",
    "            \"tile_type\": obs.map_features.tile_type,\n",
    "        },\n",
    "        \"relic_nodes\": obs.relic_nodes,\n",
    "        \"relic_nodes_mask\": obs.relic_nodes_mask,\n",
    "        \"team_points\": obs.team_points,\n",
    "        \"team_wins\": obs.team_wins,\n",
    "        \"steps\": obs.steps,\n",
    "        \"match_steps\": obs.match_steps,\n",
    "    }\n",
    "\n",
    "\n",
    "Agent(\"player_0\", env_params_to_dict(env_params)).act(0, obs_to_dict(obs[\"player_0\"]))"
   ]
  }
 ],
 "metadata": {
  "kernelspec": {
   "display_name": "lux-s3-bot-QknvIJxg-py3.11",
   "language": "python",
   "name": "python3"
  },
  "language_info": {
   "codemirror_mode": {
    "name": "ipython",
    "version": 3
   },
   "file_extension": ".py",
   "mimetype": "text/x-python",
   "name": "python",
   "nbconvert_exporter": "python",
   "pygments_lexer": "ipython3",
   "version": "3.11.2"
  }
 },
 "nbformat": 4,
 "nbformat_minor": 2
}
